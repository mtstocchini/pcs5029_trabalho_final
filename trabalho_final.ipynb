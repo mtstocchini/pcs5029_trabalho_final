{
 "cells": [
  {
   "cell_type": "markdown",
   "metadata": {},
   "source": [
    "# 1. IMPORTS"
   ]
  },
  {
   "cell_type": "code",
   "execution_count": 1,
   "metadata": {},
   "outputs": [],
   "source": [
    "import joblib\n",
    "import numpy       as np\n",
    "import pandas      as pd\n",
    "import spacy\n",
    "import tensorflow  as tf\n",
    "import transformer as trfm\n",
    "from matplotlib                                         import pyplot as plt\n",
    "from sklearn.decomposition                              import PCA\n",
    "from sklearn.metrics                                    import accuracy_score, classification_report\n",
    "from sklearn.model_selection                            import RandomizedSearchCV, train_test_split\n",
    "from sklearn.preprocessing                              import LabelEncoder\n",
    "from tensorflow.keras.layers                            import Bidirectional, Dense, Dropout, Embedding, GlobalAveragePooling1D, Input, LSTM, RNN\n",
    "from tensorflow.keras.layers.experimental.preprocessing import TextVectorization\n",
    "from tensorflow.keras.metrics                           import Accuracy, Precision, Recall\n",
    "from tensorflow.keras.utils                             import to_categorical"
   ]
  },
  {
   "cell_type": "code",
   "execution_count": 2,
   "metadata": {},
   "outputs": [],
   "source": [
    "pd.set_option(\"display.max_rows\", None)\n",
    "np.random.seed(43)"
   ]
  },
  {
   "cell_type": "markdown",
   "metadata": {},
   "source": [
    "# 2. LOAD DATA"
   ]
  },
  {
   "cell_type": "code",
   "execution_count": 3,
   "metadata": {},
   "outputs": [],
   "source": [
    "df = pd.read_csv(\"wikipedia_evidence_dataset_29429.csv\")\n",
    "df = df[[\"Evidence\", \"Dominant Concept\"]]\n",
    "\n",
    "df.rename(columns = {\"Evidence\": \"sentence\", \"Dominant Concept\": \"topic\"}, inplace = True)"
   ]
  },
  {
   "cell_type": "markdown",
   "metadata": {},
   "source": [
    "# 3. DATA EXPLORATION"
   ]
  },
  {
   "cell_type": "markdown",
   "metadata": {},
   "source": [
    "### Number of words per sentence"
   ]
  },
  {
   "cell_type": "code",
   "execution_count": 4,
   "metadata": {},
   "outputs": [
    {
     "data": {
      "text/plain": [
       "count    29429.000000\n",
       "mean        31.635767\n",
       "std         15.925884\n",
       "min          1.000000\n",
       "25%         20.000000\n",
       "50%         28.000000\n",
       "75%         39.000000\n",
       "max        304.000000\n",
       "Name: sentence, dtype: float64"
      ]
     },
     "execution_count": 4,
     "metadata": {},
     "output_type": "execute_result"
    }
   ],
   "source": [
    "df[\"sentence\"].apply(lambda string: len(string.strip().split(\" \"))).describe()"
   ]
  },
  {
   "cell_type": "code",
   "execution_count": 5,
   "metadata": {},
   "outputs": [
    {
     "data": {
      "image/png": "[encoded data removed]",
      "text/plain": [
       "<Figure size 432x288 with 1 Axes>"
      ]
     },
     "metadata": {
      "needs_background": "light"
     },
     "output_type": "display_data"
    }
   ],
   "source": [
    "plt.boxplot(df[\"sentence\"].apply(lambda string: len(string.strip().split(\" \"))))\n",
    "plt.savefig(\"./images/boxplot_words.png\")\n",
    "plt.show()"
   ]
  },
  {
   "cell_type": "markdown",
   "metadata": {},
   "source": [
    "### Class statistics"
   ]
  },
  {
   "cell_type": "markdown",
   "metadata": {},
   "source": [
    "#### Number of classes"
   ]
  },
  {
   "cell_type": "code",
   "execution_count": 6,
   "metadata": {},
   "outputs": [
    {
     "data": {
      "text/plain": [
       "count              29429\n",
       "unique               221\n",
       "top       United Nations\n",
       "freq                 481\n",
       "Name: topic, dtype: object"
      ]
     },
     "execution_count": 6,
     "metadata": {},
     "output_type": "execute_result"
    }
   ],
   "source": [
    "df[\"topic\"].describe()"
   ]
  },
  {
   "cell_type": "markdown",
   "metadata": {},
   "source": [
    "#### Class distribution"
   ]
  },
  {
   "cell_type": "code",
   "execution_count": 7,
   "metadata": {},
   "outputs": [
    {
     "data": {
      "image/png": "[encoded data removed]",
      "text/plain": [
       "<Figure size 432x288 with 1 Axes>"
      ]
     },
     "metadata": {
      "needs_background": "light"
     },
     "output_type": "display_data"
    }
   ],
   "source": [
    "plt.boxplot(df.groupby(\"topic\")[\"topic\"].count())\n",
    "plt.savefig(\"./images/boxplot_class.png\")\n",
    "plt.show()"
   ]
  },
  {
   "cell_type": "code",
   "execution_count": 8,
   "metadata": {},
   "outputs": [
    {
     "data": {
      "text/plain": [
       "count    221.000000\n",
       "mean     133.162896\n",
       "std       97.069191\n",
       "min        1.000000\n",
       "25%       62.000000\n",
       "50%      111.000000\n",
       "75%      177.000000\n",
       "max      481.000000\n",
       "Name: topic, dtype: float64"
      ]
     },
     "execution_count": 8,
     "metadata": {},
     "output_type": "execute_result"
    }
   ],
   "source": [
    "df.groupby(\"topic\")[\"topic\"].count().describe()"
   ]
  },
  {
   "cell_type": "markdown",
   "metadata": {},
   "source": [
    "#### Range of word in a sentence: 10 to 40"
   ]
  },
  {
   "cell_type": "code",
   "execution_count": 9,
   "metadata": {},
   "outputs": [
    {
     "data": {
      "text/plain": [
       "(29429, 2)"
      ]
     },
     "execution_count": 9,
     "metadata": {},
     "output_type": "execute_result"
    }
   ],
   "source": [
    "df.shape"
   ]
  },
  {
   "cell_type": "code",
   "execution_count": 10,
   "metadata": {},
   "outputs": [
    {
     "data": {
      "text/plain": [
       "(23395, 2)"
      ]
     },
     "execution_count": 10,
     "metadata": {},
     "output_type": "execute_result"
    }
   ],
   "source": [
    "df = df[(df[\"sentence\"].apply(lambda string: len(string.strip().split(\" \"))) <= 50) &\n",
    "        (df[\"sentence\"].apply(lambda string: len(string.strip().split(\" \"))) >= 15)]\n",
    "\n",
    "df.shape"
   ]
  },
  {
   "cell_type": "markdown",
   "metadata": {},
   "source": [
    "#### Minimum examples = 90 and Maximum examples = 300"
   ]
  },
  {
   "cell_type": "code",
   "execution_count": 11,
   "metadata": {},
   "outputs": [
    {
     "data": {
      "text/plain": [
       "(17151, 2)"
      ]
     },
     "execution_count": 11,
     "metadata": {},
     "output_type": "execute_result"
    }
   ],
   "source": [
    "df = df.join(df.groupby(\"topic\")[\"topic\"].count().where((df.groupby(\"topic\")[\"topic\"].count() >= 90) &\n",
    "                                                        (df.groupby(\"topic\")[\"topic\"].count() <= 350)).dropna(),\n",
    "             on = \"topic\", how = \"inner\", lsuffix = \"\", rsuffix = \"_drop\").drop(\"topic_drop\", axis = 1)\n",
    "\n",
    "df.shape"
   ]
  },
  {
   "cell_type": "markdown",
   "metadata": {},
   "source": [
    "## Preprocessed dataset"
   ]
  },
  {
   "cell_type": "markdown",
   "metadata": {},
   "source": [
    "### Words"
   ]
  },
  {
   "cell_type": "code",
   "execution_count": 12,
   "metadata": {},
   "outputs": [
    {
     "data": {
      "text/plain": [
       "count    17151.000000\n",
       "mean        29.306280\n",
       "std          9.372449\n",
       "min         15.000000\n",
       "25%         21.000000\n",
       "50%         28.000000\n",
       "75%         36.000000\n",
       "max         50.000000\n",
       "Name: sentence, dtype: float64"
      ]
     },
     "execution_count": 12,
     "metadata": {},
     "output_type": "execute_result"
    }
   ],
   "source": [
    "df[\"sentence\"].apply(lambda string: len(string.strip().split(\" \"))).describe()"
   ]
  },
  {
   "cell_type": "code",
   "execution_count": 13,
   "metadata": {},
   "outputs": [
    {
     "data": {
      "image/png": "[encoded data removed]",
      "text/plain": [
       "<Figure size 432x288 with 1 Axes>"
      ]
     },
     "metadata": {
      "needs_background": "light"
     },
     "output_type": "display_data"
    }
   ],
   "source": [
    "plt.boxplot(df[\"sentence\"].apply(lambda string: len(string.strip().split(\" \"))))\n",
    "plt.savefig(\"./images/boxplot_words_prep.png\")\n",
    "plt.show()"
   ]
  },
  {
   "cell_type": "markdown",
   "metadata": {},
   "source": [
    "### Class"
   ]
  },
  {
   "cell_type": "code",
   "execution_count": 14,
   "metadata": {},
   "outputs": [
    {
     "data": {
      "text/plain": [
       "count                17151\n",
       "unique                 109\n",
       "top       Higher education\n",
       "freq                   340\n",
       "Name: topic, dtype: object"
      ]
     },
     "execution_count": 14,
     "metadata": {},
     "output_type": "execute_result"
    }
   ],
   "source": [
    "df[\"topic\"].describe()"
   ]
  },
  {
   "cell_type": "code",
   "execution_count": 15,
   "metadata": {},
   "outputs": [
    {
     "data": {
      "image/png": "[encoded data removed]",
      "text/plain": [
       "<Figure size 432x288 with 1 Axes>"
      ]
     },
     "metadata": {
      "needs_background": "light"
     },
     "output_type": "display_data"
    }
   ],
   "source": [
    "plt.boxplot(df.groupby(\"topic\")[\"topic\"].count())\n",
    "plt.savefig(\"./images/boxplot_class_prep.png\")\n",
    "plt.show()"
   ]
  },
  {
   "cell_type": "markdown",
   "metadata": {},
   "source": [
    "# 4. TRAINING THE MODEL"
   ]
  },
  {
   "cell_type": "code",
   "execution_count": 40,
   "metadata": {},
   "outputs": [],
   "source": [
    "MAX_SENTENCE_LENGTH = 50\n",
    "VOCAB_SIZE          = 40000"
   ]
  },
  {
   "cell_type": "markdown",
   "metadata": {},
   "source": [
    "### Split the dataset into train and test sets"
   ]
  },
  {
   "cell_type": "code",
   "execution_count": 17,
   "metadata": {},
   "outputs": [],
   "source": [
    "train_set, test_set, train_label, test_label = train_test_split(df.drop(\"topic\", axis = 1), df[\"topic\"],\n",
    "                                                                test_size = 0.2, random_state = 43, \n",
    "                                                                stratify = df[\"topic\"])"
   ]
  },
  {
   "cell_type": "markdown",
   "metadata": {},
   "source": [
    "### Vectorize the dataset"
   ]
  },
  {
   "cell_type": "code",
   "execution_count": 18,
   "metadata": {},
   "outputs": [],
   "source": [
    "nlp         = spacy.load('en_core_web_lg')\n",
    "\n",
    "## Encode the class labels\n",
    "encoder     = LabelEncoder()\n",
    "train_label = np.array(train_label)\n",
    "test_label  = np.array(test_label)\n",
    "train_label = encoder.fit_transform(train_label)\n",
    "test_label  = encoder.transform(test_label)"
   ]
  },
  {
   "cell_type": "code",
   "execution_count": 19,
   "metadata": {},
   "outputs": [],
   "source": [
    "# Vectorizations steps for the neural network\n",
    "vectorizer = TextVectorization(max_tokens = VOCAB_SIZE, output_sequence_length = MAX_SENTENCE_LENGTH)\n",
    "text_train = tf.data.Dataset.from_tensor_slices(train_set)\n",
    "\n",
    "vectorizer.adapt(text_train)\n",
    "\n",
    "word_index = dict(zip(vectorizer.get_vocabulary(), range(len(vectorizer.get_vocabulary()))))"
   ]
  },
  {
   "cell_type": "code",
   "execution_count": 20,
   "metadata": {},
   "outputs": [],
   "source": [
    "# Embedding Matrix of words; shape num_words x 300 (dimension of spacy embedding for each word)\n",
    "embedding_matrix = np.zeros((len(vectorizer.get_vocabulary()) + 2, 300))\n",
    "\n",
    "for word, i in word_index.items():\n",
    "    embedding_vector = nlp.vocab.get_vector(word)\n",
    "    \n",
    "    if embedding_vector is not None:\n",
    "        embedding_matrix[i] = embedding_vector"
   ]
  },
  {
   "cell_type": "code",
   "execution_count": 21,
   "metadata": {},
   "outputs": [],
   "source": [
    "train_set   = vectorizer(np.array([text[\"sentence\"] for index, text in train_set.iterrows()])).numpy()\n",
    "test_set    = vectorizer(np.array([text[\"sentence\"] for index, text in test_set.iterrows()])).numpy()\n",
    "train_label = to_categorical(encoder.fit_transform(np.array(train_label)), num_classes = df[\"topic\"].nunique())\n",
    "test_label  = to_categorical(encoder.transform(np.array(test_label)), num_classes = df[\"topic\"].nunique())"
   ]
  },
  {
   "cell_type": "code",
   "execution_count": 22,
   "metadata": {},
   "outputs": [],
   "source": [
    "embedding_layer = Embedding(len(vectorizer.get_vocabulary()) + 2,\n",
    "                            output_dim = 300,\n",
    "                            embeddings_initializer = tf.keras.initializers.Constant(embedding_matrix),\n",
    "                            trainable              = False)"
   ]
  },
  {
   "cell_type": "markdown",
   "metadata": {},
   "source": [
    "## Model"
   ]
  },
  {
   "cell_type": "markdown",
   "metadata": {},
   "source": [
    "### LSTM Bidirectional neural network"
   ]
  },
  {
   "cell_type": "code",
   "execution_count": 41,
   "metadata": {},
   "outputs": [
    {
     "name": "stdout",
     "output_type": "stream",
     "text": [
      "Model: \"functional_7\"\n",
      "_________________________________________________________________\n",
      "Layer (type)                 Output Shape              Param #   \n",
      "=================================================================\n",
      "input_7 (InputLayer)         [(None, 50)]              0         \n",
      "_________________________________________________________________\n",
      "embedding (Embedding)        (None, 50, 300)           9699600   \n",
      "_________________________________________________________________\n",
      "bidirectional_2 (Bidirection (None, 50, 128)           186880    \n",
      "_________________________________________________________________\n",
      "bidirectional_3 (Bidirection (None, 128)               98816     \n",
      "_________________________________________________________________\n",
      "dense_29 (Dense)             (None, 109)               14061     \n",
      "=================================================================\n",
      "Total params: 9,999,357\n",
      "Trainable params: 299,757\n",
      "Non-trainable params: 9,699,600\n",
      "_________________________________________________________________\n"
     ]
    }
   ],
   "source": [
    "inputs             = tf.keras.Input(shape = (MAX_SENTENCE_LENTGH, ), dtype = \"int64\")\n",
    "embedded_sequences = embedding_layer(inputs)\n",
    "x                  = Bidirectional(LSTM(64, return_sequences = True))(embedded_sequences)\n",
    "x                  = Bidirectional(LSTM(64))(x)\n",
    "outputs            = Dense(df[\"topic\"].nunique(), activation = \"softmax\")(x)\n",
    "model              = tf.keras.Model(inputs, outputs)\n",
    "\n",
    "model.summary()"
   ]
  },
  {
   "cell_type": "code",
   "execution_count": 43,
   "metadata": {},
   "outputs": [],
   "source": [
    "metrics = [Accuracy(name = \"accuracy\"), Precision(name = \"precision\"), Recall(name = \"recall\")]\n",
    "\n",
    "model.compile(loss = \"categorical_crossentropy\", optimizer = \"adam\", metrics = [metrics])"
   ]
  },
  {
   "cell_type": "code",
   "execution_count": null,
   "metadata": {},
   "outputs": [],
   "source": [
    "model.fit(train_set, train_label, batch_size = 32, epochs = 50, validation_split = 0.15)"
   ]
  },
  {
   "cell_type": "code",
   "execution_count": null,
   "metadata": {},
   "outputs": [],
   "source": [
    "model.save(\"model_lstm_bidirectional\")"
   ]
  },
  {
   "cell_type": "code",
   "execution_count": null,
   "metadata": {},
   "outputs": [],
   "source": [
    "model_lstm = tf.keras.models.load_model(\"model_lstm_bidirectional\")"
   ]
  },
  {
   "cell_type": "markdown",
   "metadata": {},
   "source": [
    "### Transformer"
   ]
  },
  {
   "cell_type": "code",
   "execution_count": 23,
   "metadata": {},
   "outputs": [],
   "source": [
    "embed_dim = 300  # Embedding size for each token\n",
    "num_heads = 2  # Number of attention heads\n",
    "ff_dim    = 32  # Hidden layer size in feed forward network inside transformer"
   ]
  },
  {
   "cell_type": "code",
   "execution_count": 49,
   "metadata": {},
   "outputs": [
    {
     "name": "stdout",
     "output_type": "stream",
     "text": [
      "Model: \"functional_13\"\n",
      "_________________________________________________________________\n",
      "Layer (type)                 Output Shape              Param #   \n",
      "=================================================================\n",
      "input_10 (InputLayer)        [(None, 50)]              0         \n",
      "_________________________________________________________________\n",
      "token_and_position_embedding (None, 50, 300)           9714600   \n",
      "_________________________________________________________________\n",
      "transformer_block_6 (Transfo (None, 50, 300)           381932    \n",
      "_________________________________________________________________\n",
      "global_average_pooling1d_4 ( (None, 300)               0         \n",
      "_________________________________________________________________\n",
      "dropout_22 (Dropout)         (None, 300)               0         \n",
      "_________________________________________________________________\n",
      "dense_52 (Dense)             (None, 20)                6020      \n",
      "_________________________________________________________________\n",
      "dropout_23 (Dropout)         (None, 20)                0         \n",
      "_________________________________________________________________\n",
      "dense_53 (Dense)             (None, 109)               2289      \n",
      "=================================================================\n",
      "Total params: 10,104,841\n",
      "Trainable params: 405,241\n",
      "Non-trainable params: 9,699,600\n",
      "_________________________________________________________________\n"
     ]
    }
   ],
   "source": [
    "inputs              = Input(shape = (MAX_SENTENCE_LENTGH,))\n",
    "embbeded_layer      = trfm.TokenAndPositionEmbedding(MAX_SENTENCE_LENGTH, len(vectorizer.get_vocabulary()), 300, embedding_layer)\n",
    "x                   = embbeded_layer(inputs)\n",
    "transformer_block   = trfm.TransformerBlock(embed_dim, num_heads, ff_dim)\n",
    "x                   = transformer_block(x)\n",
    "x                   = GlobalAveragePooling1D()(x)\n",
    "x                   = Dropout(0.1)(x)\n",
    "x                   = Dense(20, activation = \"relu\")(x)\n",
    "x                   = Dropout(0.1)(x)\n",
    "outputs             = Dense(df[\"topic\"].nunique(), activation = \"softmax\")(x)\n",
    "model               = tf.keras.Model(inputs = inputs, outputs = outputs)\n",
    "\n",
    "model.summary()"
   ]
  },
  {
   "cell_type": "code",
   "execution_count": 50,
   "metadata": {},
   "outputs": [],
   "source": [
    "model.compile(loss = \"categorical_crossentropy\", optimizer = \"adam\", metrics = [metrics])"
   ]
  },
  {
   "cell_type": "code",
   "execution_count": null,
   "metadata": {},
   "outputs": [],
   "source": [
    "model.fit(train_set, train_label, batch_size = 32, epochs = 10, validation_split = 0.15)"
   ]
  },
  {
   "cell_type": "code",
   "execution_count": null,
   "metadata": {},
   "outputs": [],
   "source": [
    "model.save(\"model_bert\")"
   ]
  },
  {
   "cell_type": "code",
   "execution_count": null,
   "metadata": {},
   "outputs": [],
   "source": [
    "model_bert = tf.keras.models.load_model(\"model_bert\")"
   ]
  },
  {
   "cell_type": "markdown",
   "metadata": {},
   "source": [
    "# 5. EVALUATION"
   ]
  },
  {
   "cell_type": "code",
   "execution_count": null,
   "metadata": {},
   "outputs": [],
   "source": [
    "lstm_pred = model_lstm.predict(test_set).argmax(axis = -1)\n",
    "bert_pred = model_bert.predict(test_set).argmax(axis = -1)"
   ]
  },
  {
   "cell_type": "code",
   "execution_count": null,
   "metadata": {},
   "outputs": [],
   "source": [
    "print(\"LSTM Biderectional Accuracy: {:.2f}%\".format(accuracy_score(test_label, lstm_pred) * 100))\n",
    "print(\"BERT Accuracy: {:.2f}%\".format(accuracy_score(test_label, bert_pred) * 100))"
   ]
  },
  {
   "cell_type": "markdown",
   "metadata": {},
   "source": [
    "# 6. RESULTS"
   ]
  },
  {
   "cell_type": "markdown",
   "metadata": {},
   "source": [
    "## Metrics reports"
   ]
  },
  {
   "cell_type": "code",
   "execution_count": null,
   "metadata": {},
   "outputs": [],
   "source": [
    "test_label = encoder.inverse_transform(test_label)\n",
    "lstm_pred  = encoder.inverse_transform(lstm_pred)\n",
    "bert_pred  = encoder.inverse_transform(bert_pred)"
   ]
  },
  {
   "cell_type": "code",
   "execution_count": null,
   "metadata": {},
   "outputs": [],
   "source": [
    "clf_rep_lstm = pd.DataFrame(classification_report(test_label, lstm_pred, output_dict = True)).T\n",
    "clf_rep_bert = pd.DataFrame(classification_report(test_label, bert_pred, output_dict = True)).T"
   ]
  },
  {
   "cell_type": "code",
   "execution_count": null,
   "metadata": {
    "scrolled": false
   },
   "outputs": [],
   "source": [
    "print(\"Classification report for the LSTM Bidirectional Classifier: \\n\", classification_report(test_label, lstm_pred), \"\\n\")\n",
    "print(\"Classification report for the BERT Classifier: \\n\", classification_report(test_label, bert_pred))"
   ]
  }
 ],
 "metadata": {
  "kernelspec": {
   "display_name": "pcs5787",
   "language": "python",
   "name": "pcs5787"
  },
  "language_info": {
   "codemirror_mode": {
    "name": "ipython",
    "version": 3
   },
   "file_extension": ".py",
   "mimetype": "text/x-python",
   "name": "python",
   "nbconvert_exporter": "python",
   "pygments_lexer": "ipython3",
   "version": "3.8.6"
  }
 },
 "nbformat": 4,
 "nbformat_minor": 4
}
